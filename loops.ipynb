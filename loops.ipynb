{
  "nbformat": 4,
  "nbformat_minor": 0,
  "metadata": {
    "colab": {
      "name": "python_from_hackerrank.ipynb",
      "provenance": [],
      "collapsed_sections": []
    },
    "kernelspec": {
      "name": "python3",
      "display_name": "Python 3"
    },
    "language_info": {
      "name": "python"
    }
  },
  "cells": [
    {
      "cell_type": "code",
      "metadata": {
        "colab": {
          "base_uri": "https://localhost:8080/"
        },
        "id": "crcIYhLOcbt3",
        "outputId": "545b7f33-e7cd-47d5-ce64-41f651489a69"
      },
      "source": [
        "  n = int(input())  #taking input\n",
        "  for x in range(n):  #let x be a varaible in range of n inputs\n",
        "            if x <0:break #if x is negatve ,it breaks\n",
        "            else:\n",
        "              print(x*x)   #else print the value as x^2\n",
        "  "
      ],
      "execution_count": 7,
      "outputs": [
        {
          "output_type": "stream",
          "text": [
            "5\n",
            "0\n",
            "1\n",
            "4\n",
            "9\n",
            "16\n"
          ],
          "name": "stdout"
        }
      ]
    }
  ]
}